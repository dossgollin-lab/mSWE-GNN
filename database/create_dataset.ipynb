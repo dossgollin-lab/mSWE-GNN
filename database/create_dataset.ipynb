{
 "cells": [
  {
   "attachments": {},
   "cell_type": "markdown",
   "id": "601a3d7a-ad72-4cbd-ba50-c97d8325e94a",
   "metadata": {},
   "source": [
    "# Libraries"
   ]
  },
  {
   "cell_type": "code",
   "id": "308f9d6f-d1ba-45bd-9b78-667345511f4d",
   "metadata": {
    "ExecuteTime": {
     "end_time": "2025-07-22T12:46:52.669777Z",
     "start_time": "2025-07-22T12:46:52.666514Z"
    }
   },
   "source": [
    "from graph_creation import create_mesh_dataset, save_database, create_dataset_folders"
   ],
   "outputs": [],
   "execution_count": 5
  },
  {
   "cell_type": "code",
   "id": "916ef043",
   "metadata": {
    "ExecuteTime": {
     "end_time": "2025-07-22T12:46:52.712723Z",
     "start_time": "2025-07-22T12:46:52.708845Z"
    }
   },
   "source": [
    "create_dataset_folders(dataset_folder='datasets')"
   ],
   "outputs": [],
   "execution_count": 6
  },
  {
   "attachments": {},
   "cell_type": "markdown",
   "id": "b8240b03-00a7-41a0-a21d-10cf12500c2b",
   "metadata": {
    "tags": []
   },
   "source": [
    "# Create and save pytorch geometric dataset"
   ]
  },
  {
   "cell_type": "code",
   "id": "152d32d7",
   "metadata": {
    "ExecuteTime": {
     "end_time": "2025-07-22T12:46:52.736359Z",
     "start_time": "2025-07-22T12:46:52.732542Z"
    }
   },
   "source": [
    "# dataset_folder, dataset_name, dataset_dir, with_multiscale, start_sim_id, n_sim\n",
    "simulation_ids = [\n",
    "    ['./raw_datasets_mesh', 'mesh_dataset2','datasets/train', False, 1, 80],\n",
    "    ['./raw_datasets_mesh', 'mesh_dataset2','datasets/test', False, 81, 20],\n",
    "    ['./raw_datasets_mesh', 'multiscale_mesh_dataset2','datasets/train', True, 1, 80],\n",
    "    ['./raw_datasets_mesh', 'multiscale_mesh_dataset2','datasets/test', True, 81, 20],\n",
    "    ['./raw_datasets_dk15', 'dijkring_15_big','datasets/test', True, 101, 11],\n",
    "    ['./raw_datasets_dk15', 'dijkring_15_big_fine','datasets/test', False, 101, 11],\n",
    "]"
   ],
   "outputs": [],
   "execution_count": 7
  },
  {
   "cell_type": "code",
   "id": "b4aa96a4",
   "metadata": {
    "ExecuteTime": {
     "end_time": "2025-07-22T12:56:11.619312Z",
     "start_time": "2025-07-22T12:46:52.758593Z"
    }
   },
   "source": [
    "for dataset_folder, dataset_name, dataset_dir, with_multiscale, start_sim_id, n_sim in simulation_ids:\n",
    "   mesh_dataset = create_mesh_dataset(dataset_folder, n_sim, start_sim_id, \n",
    "                                      with_multiscale=with_multiscale, number_of_multiscales=4,\n",
    "                                      )\n",
    "   \n",
    "   if dataset_name[:8] == 'dijkring':\n",
    "      train_dataset = [mesh_dataset[0]]\n",
    "      test_dataset = mesh_dataset[1:]\n",
    "      save_database(train_dataset, name=dataset_name, out_path='datasets/train')\n",
    "      save_database(test_dataset, name=dataset_name, out_path='datasets/test')\n",
    "   else:\n",
    "      save_database(mesh_dataset, name=dataset_name, out_path=dataset_dir)"
   ],
   "outputs": [
    {
     "name": "stderr",
     "output_type": "stream",
     "text": [
      "100%|██████████| 80/80 [00:42<00:00,  1.89it/s]\n",
      "100%|██████████| 20/20 [00:11<00:00,  1.80it/s]\n",
      "100%|██████████| 80/80 [04:56<00:00,  3.71s/it]\n",
      "100%|██████████| 20/20 [01:12<00:00,  3.63s/it]\n",
      "100%|██████████| 11/11 [02:00<00:00, 10.94s/it]\n",
      "100%|██████████| 11/11 [00:11<00:00,  1.07s/it]\n"
     ]
    }
   ],
   "execution_count": 8
  }
 ],
 "metadata": {
  "kernelspec": {
   "display_name": "mswe-gnn-venv",
   "language": "python",
   "name": "mswe-gnn"
  },
  "language_info": {
   "codemirror_mode": {
    "name": "ipython",
    "version": 3
   },
   "file_extension": ".py",
   "mimetype": "text/x-python",
   "name": "python",
   "nbconvert_exporter": "python",
   "pygments_lexer": "ipython3",
   "version": "3.10.8"
  },
  "vscode": {
   "interpreter": {
    "hash": "751ff9f3dce1395adb2e3795e68eeeed688a6558fa29bf9be6c36716ccf55324"
   }
  }
 },
 "nbformat": 4,
 "nbformat_minor": 5
}
